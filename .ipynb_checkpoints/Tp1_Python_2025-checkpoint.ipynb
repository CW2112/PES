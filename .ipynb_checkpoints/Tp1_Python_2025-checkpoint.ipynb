{
  "cells": [
    {
      "cell_type": "markdown",
      "source": [
        "# Trabajo Práctico Nº 1\n",
        "## Objetivos\n",
        "\n",
        "- Implementar y analizar el filtro de promedio móvil (moving average) en Python.\n",
        "- Aplicar el concepto de convolución en señales digitales.\n",
        "- Familiarizarse con el entorno de desarrollo en Python notebooks.\n",
        "- Comparar representación en punto flotante vs punto fijo, evaluando precisión y tiempos de cómputo."
      ],
      "metadata": {
        "id": "FE_H84IbT0Fg"
      },
      "id": "FE_H84IbT0Fg"
    },
    {
      "cell_type": "markdown",
      "source": [
        "# Ejercicio 1 - Filtro Moving Average\n",
        "\n",
        "1. Implementá un algoritmo de promedio móvil (moving average) según la definición vista en clase, que reciba como parámetros:\n",
        "\n",
        "- La señal de entrada.\n",
        "- El tamaño de la ventana.\n",
        "\n",
        "A partir de tu implementación, obtené y graficá la respuesta impulsiva del sistema (lo que en clase llamamos su “firma” o función de transferencia).\n",
        "\n",
        "2. Respondé:\n",
        "\n",
        "- ¿Cómo se obtiene la respuesta impulsiva de cualquier sistema?\n",
        "- ¿Qué representa en el caso del filtro de promedio móvil?"
      ],
      "metadata": {
        "id": "R-bf_qgYStah"
      },
      "id": "R-bf_qgYStah"
    },
    {
      "cell_type": "code",
      "execution_count": null,
      "id": "3c91b816",
      "metadata": {
        "id": "3c91b816"
      },
      "outputs": [],
      "source": [
        "# Escribí tu código acá"
      ]
    },
    {
      "cell_type": "markdown",
      "id": "e11762c8",
      "metadata": {
        "id": "e11762c8"
      },
      "source": [
        "# Ejercicio 2 - Respuesta del sistema\n",
        "\n",
        "1. Genera dos señales de prueba:\n",
        "    - Una onda cuadrada de amplitud 1 y frecuencia de 2 kHz.\n",
        "    - Una onda triangular de amplitud 1 y frecuencia de 1 kHz.\n",
        "\n",
        "Aplica el moving average implementado en el Ejercicio 1 a estas señales.\n",
        "\n",
        "2. Analiza los resultados:\n",
        "\n",
        "    - Grafica la señal original y la señal filtrada.\n",
        "    - Explica qué cambios observas en la forma de onda.\n",
        "\n",
        "3. Escribe tus conclusiones: ¿qué efecto tiene el filtro de promedio móvil sobre cada señal?\n"
      ]
    },
    {
      "cell_type": "code",
      "execution_count": null,
      "id": "86695078",
      "metadata": {
        "id": "86695078"
      },
      "outputs": [],
      "source": [
        "# Escribí tu código acá"
      ]
    },
    {
      "cell_type": "markdown",
      "id": "b1a7e1a2",
      "metadata": {
        "id": "b1a7e1a2"
      },
      "source": [
        "# Ejercicio 3 - Convolución en punto flotante y punto fijo\n",
        "\n",
        "1. Implementa un algoritmo de convolución:\n",
        "\n",
        "    - En punto flotante (float).\n",
        "    - En punto fijo, utilizando por ejemplo la librería fixedpoint.\n",
        "\n",
        "2. Compara los resultados con la función de NumPy np.convolve. Mide y compara:\n",
        "\n",
        "    - El tiempo de ejecución usando timeit.\n",
        "    - El error de la salida respecto al cálculo en punto flotante.\n",
        "\n",
        "3. Conclusión:\n",
        "\n",
        "    - ¿Qué diferencias observas entre las implementaciones?\n",
        "    - ¿Qué ventajas y desventajas tiene usar punto fijo en lugar de punto flotante?"
      ]
    },
    {
      "cell_type": "code",
      "execution_count": null,
      "id": "a17fa807",
      "metadata": {
        "id": "a17fa807"
      },
      "outputs": [],
      "source": [
        "# Escribí tu código acá"
      ]
    },
    {
      "cell_type": "code",
      "source": [
        "# Ejemplos de medicion de tiempos\n",
        "# %pylab inline\n",
        "import timeit\n",
        "import time\n",
        "import numpy as np\n",
        "\n",
        "t = np.arange(0, 1024/20000, 1/20000)\n",
        "s1= np.sin(2*np.pi*1000*t)+1\n",
        "s2 = np.sin(2*np.pi*1200*t)\n",
        "\n",
        "# METODO 1 de medición de tiempos\n",
        "\n",
        "# Este wrapper empaqueta funciones para que el timeit pueda medir solo eso\n",
        "def wrapper(func, *args):\n",
        "    def wrapped():\n",
        "        return func(*args)\n",
        "    return wrapped\n",
        "\n",
        "conv = wrapper(np.convolve, s1, s2)\n",
        "print (timeit.timeit(conv, number=1))\n",
        "\n",
        "# METODO 2 de medición de tiempos\n",
        "start = time.time()\n",
        "conv_r = np.convolve(s1,s2)\n",
        "end = time.time()\n",
        "print (end-start)"
      ],
      "metadata": {
        "colab": {
          "base_uri": "https://localhost:8080/"
        },
        "id": "ifyX_RVwRqa2",
        "outputId": "c7539597-35c2-497f-efff-dcf4c6f51881"
      },
      "id": "ifyX_RVwRqa2",
      "execution_count": null,
      "outputs": [
        {
          "output_type": "stream",
          "name": "stdout",
          "text": [
            "0.0008499980000067353\n",
            "0.0008301734924316406\n"
          ]
        }
      ]
    }
  ],
  "metadata": {
    "colab": {
      "provenance": []
    },
    "language_info": {
      "name": "python"
    },
    "kernelspec": {
      "name": "python3",
      "display_name": "Python 3"
    }
  },
  "nbformat": 4,
  "nbformat_minor": 5
}